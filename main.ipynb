{
 "cells": [
  {
   "cell_type": "code",
   "execution_count": 19,
   "id": "initial_id",
   "metadata": {
    "collapsed": true,
    "ExecuteTime": {
     "end_time": "2024-02-28T13:39:19.176404Z",
     "start_time": "2024-02-28T13:39:19.173887Z"
    }
   },
   "outputs": [],
   "source": [
    "import pandas as pd\n",
    "import numpy as np\n",
    "from sklearn.preprocessing import LabelEncoder\n",
    "from keras.utils import to_categorical\n",
    "\n",
    "from sklearn.model_selection import train_test_split\n",
    "from keras.models import Sequential\n",
    "from keras.layers import Dense"
   ]
  },
  {
   "cell_type": "code",
   "outputs": [],
   "source": [
    "df_star = pd.read_csv('star_classification.csv')"
   ],
   "metadata": {
    "collapsed": false,
    "ExecuteTime": {
     "end_time": "2024-02-28T13:28:18.676348Z",
     "start_time": "2024-02-28T13:28:18.520737Z"
    }
   },
   "id": "86b7318c1392790c",
   "execution_count": 5
  },
  {
   "cell_type": "code",
   "outputs": [
    {
     "data": {
      "text/plain": "         obj_ID       alpha      delta         u         g         r  \\\n0  1.237661e+18  135.689107  32.494632  23.87882  22.27530  20.39501   \n1  1.237665e+18  144.826101  31.274185  24.77759  22.83188  22.58444   \n2  1.237661e+18  142.188790  35.582444  25.26307  22.66389  20.60976   \n3  1.237663e+18  338.741038  -0.402828  22.13682  23.77656  21.61162   \n4  1.237680e+18  345.282593  21.183866  19.43718  17.58028  16.49747   \n\n          i         z  run_ID  rerun_ID  cam_col  field_ID   spec_obj_ID  \\\n0  19.16573  18.79371    3606       301        2        79  6.543777e+18   \n1  21.16812  21.61427    4518       301        5       119  1.176014e+19   \n2  19.34857  18.94827    3606       301        2       120  5.152200e+18   \n3  20.50454  19.25010    4192       301        3       214  1.030107e+19   \n4  15.97711  15.54461    8102       301        3       137  6.891865e+18   \n\n    class  redshift  plate    MJD  fiber_ID  \n0  GALAXY  0.634794   5812  56354       171  \n1  GALAXY  0.779136  10445  58158       427  \n2  GALAXY  0.644195   4576  55592       299  \n3  GALAXY  0.932346   9149  58039       775  \n4  GALAXY  0.116123   6121  56187       842  ",
      "text/html": "<div>\n<style scoped>\n    .dataframe tbody tr th:only-of-type {\n        vertical-align: middle;\n    }\n\n    .dataframe tbody tr th {\n        vertical-align: top;\n    }\n\n    .dataframe thead th {\n        text-align: right;\n    }\n</style>\n<table border=\"1\" class=\"dataframe\">\n  <thead>\n    <tr style=\"text-align: right;\">\n      <th></th>\n      <th>obj_ID</th>\n      <th>alpha</th>\n      <th>delta</th>\n      <th>u</th>\n      <th>g</th>\n      <th>r</th>\n      <th>i</th>\n      <th>z</th>\n      <th>run_ID</th>\n      <th>rerun_ID</th>\n      <th>cam_col</th>\n      <th>field_ID</th>\n      <th>spec_obj_ID</th>\n      <th>class</th>\n      <th>redshift</th>\n      <th>plate</th>\n      <th>MJD</th>\n      <th>fiber_ID</th>\n    </tr>\n  </thead>\n  <tbody>\n    <tr>\n      <th>0</th>\n      <td>1.237661e+18</td>\n      <td>135.689107</td>\n      <td>32.494632</td>\n      <td>23.87882</td>\n      <td>22.27530</td>\n      <td>20.39501</td>\n      <td>19.16573</td>\n      <td>18.79371</td>\n      <td>3606</td>\n      <td>301</td>\n      <td>2</td>\n      <td>79</td>\n      <td>6.543777e+18</td>\n      <td>GALAXY</td>\n      <td>0.634794</td>\n      <td>5812</td>\n      <td>56354</td>\n      <td>171</td>\n    </tr>\n    <tr>\n      <th>1</th>\n      <td>1.237665e+18</td>\n      <td>144.826101</td>\n      <td>31.274185</td>\n      <td>24.77759</td>\n      <td>22.83188</td>\n      <td>22.58444</td>\n      <td>21.16812</td>\n      <td>21.61427</td>\n      <td>4518</td>\n      <td>301</td>\n      <td>5</td>\n      <td>119</td>\n      <td>1.176014e+19</td>\n      <td>GALAXY</td>\n      <td>0.779136</td>\n      <td>10445</td>\n      <td>58158</td>\n      <td>427</td>\n    </tr>\n    <tr>\n      <th>2</th>\n      <td>1.237661e+18</td>\n      <td>142.188790</td>\n      <td>35.582444</td>\n      <td>25.26307</td>\n      <td>22.66389</td>\n      <td>20.60976</td>\n      <td>19.34857</td>\n      <td>18.94827</td>\n      <td>3606</td>\n      <td>301</td>\n      <td>2</td>\n      <td>120</td>\n      <td>5.152200e+18</td>\n      <td>GALAXY</td>\n      <td>0.644195</td>\n      <td>4576</td>\n      <td>55592</td>\n      <td>299</td>\n    </tr>\n    <tr>\n      <th>3</th>\n      <td>1.237663e+18</td>\n      <td>338.741038</td>\n      <td>-0.402828</td>\n      <td>22.13682</td>\n      <td>23.77656</td>\n      <td>21.61162</td>\n      <td>20.50454</td>\n      <td>19.25010</td>\n      <td>4192</td>\n      <td>301</td>\n      <td>3</td>\n      <td>214</td>\n      <td>1.030107e+19</td>\n      <td>GALAXY</td>\n      <td>0.932346</td>\n      <td>9149</td>\n      <td>58039</td>\n      <td>775</td>\n    </tr>\n    <tr>\n      <th>4</th>\n      <td>1.237680e+18</td>\n      <td>345.282593</td>\n      <td>21.183866</td>\n      <td>19.43718</td>\n      <td>17.58028</td>\n      <td>16.49747</td>\n      <td>15.97711</td>\n      <td>15.54461</td>\n      <td>8102</td>\n      <td>301</td>\n      <td>3</td>\n      <td>137</td>\n      <td>6.891865e+18</td>\n      <td>GALAXY</td>\n      <td>0.116123</td>\n      <td>6121</td>\n      <td>56187</td>\n      <td>842</td>\n    </tr>\n  </tbody>\n</table>\n</div>"
     },
     "execution_count": 6,
     "metadata": {},
     "output_type": "execute_result"
    }
   ],
   "source": [
    "df_star.head()"
   ],
   "metadata": {
    "collapsed": false,
    "ExecuteTime": {
     "end_time": "2024-02-28T13:28:20.140977Z",
     "start_time": "2024-02-28T13:28:20.124657Z"
    }
   },
   "id": "57f677906b9e05f3",
   "execution_count": 6
  },
  {
   "cell_type": "code",
   "outputs": [
    {
     "data": {
      "text/plain": "obj_ID         0\nalpha          0\ndelta          0\nu              0\ng              0\nr              0\ni              0\nz              0\nrun_ID         0\nrerun_ID       0\ncam_col        0\nfield_ID       0\nspec_obj_ID    0\nclass          0\nredshift       0\nplate          0\nMJD            0\nfiber_ID       0\ndtype: int64"
     },
     "execution_count": 7,
     "metadata": {},
     "output_type": "execute_result"
    }
   ],
   "source": [
    "df_star.isnull().sum()"
   ],
   "metadata": {
    "collapsed": false,
    "ExecuteTime": {
     "end_time": "2024-02-28T13:28:22.549042Z",
     "start_time": "2024-02-28T13:28:22.539021Z"
    }
   },
   "id": "41321795ee2040a",
   "execution_count": 7
  },
  {
   "cell_type": "code",
   "outputs": [
    {
     "data": {
      "text/plain": "obj_ID         0\nalpha          0\ndelta          0\nu              0\ng              0\nr              0\ni              0\nz              0\nrun_ID         0\nrerun_ID       0\ncam_col        0\nfield_ID       0\nspec_obj_ID    0\nclass          0\nredshift       0\nplate          0\nMJD            0\nfiber_ID       0\ndtype: int64"
     },
     "execution_count": 7,
     "metadata": {},
     "output_type": "execute_result"
    }
   ],
   "source": [
    "df_star.isna().sum()"
   ],
   "metadata": {
    "collapsed": false,
    "ExecuteTime": {
     "end_time": "2024-02-27T18:19:49.206530Z",
     "start_time": "2024-02-27T18:19:49.196570Z"
    }
   },
   "id": "f37e28be070a3526",
   "execution_count": 7
  },
  {
   "cell_type": "code",
   "outputs": [],
   "source": [
    "stars_data = df_star.iloc[:, :13].join(df_star.iloc[:, 14:])"
   ],
   "metadata": {
    "collapsed": false,
    "ExecuteTime": {
     "end_time": "2024-02-28T13:35:43.439155Z",
     "start_time": "2024-02-28T13:35:43.429510Z"
    }
   },
   "id": "51e1ed3448a8bace",
   "execution_count": 15
  },
  {
   "cell_type": "code",
   "outputs": [
    {
     "data": {
      "text/plain": "             obj_ID       alpha      delta         u         g         r  \\\n0      1.237661e+18  135.689107  32.494632  23.87882  22.27530  20.39501   \n1      1.237665e+18  144.826101  31.274185  24.77759  22.83188  22.58444   \n2      1.237661e+18  142.188790  35.582444  25.26307  22.66389  20.60976   \n3      1.237663e+18  338.741038  -0.402828  22.13682  23.77656  21.61162   \n4      1.237680e+18  345.282593  21.183866  19.43718  17.58028  16.49747   \n...             ...         ...        ...       ...       ...       ...   \n99995  1.237679e+18   39.620709  -2.594074  22.16759  22.97586  21.90404   \n99996  1.237679e+18   29.493819  19.798874  22.69118  22.38628  20.45003   \n99997  1.237668e+18  224.587407  15.700707  21.16916  19.26997  18.20428   \n99998  1.237661e+18  212.268621  46.660365  25.35039  21.63757  19.91386   \n99999  1.237661e+18  196.896053  49.464643  22.62171  21.79745  20.60115   \n\n              i         z  run_ID  rerun_ID  cam_col  field_ID   spec_obj_ID  \\\n0      19.16573  18.79371    3606       301        2        79  6.543777e+18   \n1      21.16812  21.61427    4518       301        5       119  1.176014e+19   \n2      19.34857  18.94827    3606       301        2       120  5.152200e+18   \n3      20.50454  19.25010    4192       301        3       214  1.030107e+19   \n4      15.97711  15.54461    8102       301        3       137  6.891865e+18   \n...         ...       ...     ...       ...      ...       ...           ...   \n99995  21.30548  20.73569    7778       301        2       581  1.055431e+19   \n99996  19.75759  19.41526    7917       301        1       289  8.586351e+18   \n99997  17.69034  17.35221    5314       301        4       308  3.112008e+18   \n99998  19.07254  18.62482    3650       301        4       131  7.601080e+18   \n99999  20.00959  19.28075    3650       301        4        60  8.343152e+18   \n\n       redshift  plate    MJD  fiber_ID  \n0      0.634794   5812  56354       171  \n1      0.779136  10445  58158       427  \n2      0.644195   4576  55592       299  \n3      0.932346   9149  58039       775  \n4      0.116123   6121  56187       842  \n...         ...    ...    ...       ...  \n99995  0.000000   9374  57749       438  \n99996  0.404895   7626  56934       866  \n99997  0.143366   2764  54535        74  \n99998  0.455040   6751  56368       470  \n99999  0.542944   7410  57104       851  \n\n[100000 rows x 17 columns]",
      "text/html": "<div>\n<style scoped>\n    .dataframe tbody tr th:only-of-type {\n        vertical-align: middle;\n    }\n\n    .dataframe tbody tr th {\n        vertical-align: top;\n    }\n\n    .dataframe thead th {\n        text-align: right;\n    }\n</style>\n<table border=\"1\" class=\"dataframe\">\n  <thead>\n    <tr style=\"text-align: right;\">\n      <th></th>\n      <th>obj_ID</th>\n      <th>alpha</th>\n      <th>delta</th>\n      <th>u</th>\n      <th>g</th>\n      <th>r</th>\n      <th>i</th>\n      <th>z</th>\n      <th>run_ID</th>\n      <th>rerun_ID</th>\n      <th>cam_col</th>\n      <th>field_ID</th>\n      <th>spec_obj_ID</th>\n      <th>redshift</th>\n      <th>plate</th>\n      <th>MJD</th>\n      <th>fiber_ID</th>\n    </tr>\n  </thead>\n  <tbody>\n    <tr>\n      <th>0</th>\n      <td>1.237661e+18</td>\n      <td>135.689107</td>\n      <td>32.494632</td>\n      <td>23.87882</td>\n      <td>22.27530</td>\n      <td>20.39501</td>\n      <td>19.16573</td>\n      <td>18.79371</td>\n      <td>3606</td>\n      <td>301</td>\n      <td>2</td>\n      <td>79</td>\n      <td>6.543777e+18</td>\n      <td>0.634794</td>\n      <td>5812</td>\n      <td>56354</td>\n      <td>171</td>\n    </tr>\n    <tr>\n      <th>1</th>\n      <td>1.237665e+18</td>\n      <td>144.826101</td>\n      <td>31.274185</td>\n      <td>24.77759</td>\n      <td>22.83188</td>\n      <td>22.58444</td>\n      <td>21.16812</td>\n      <td>21.61427</td>\n      <td>4518</td>\n      <td>301</td>\n      <td>5</td>\n      <td>119</td>\n      <td>1.176014e+19</td>\n      <td>0.779136</td>\n      <td>10445</td>\n      <td>58158</td>\n      <td>427</td>\n    </tr>\n    <tr>\n      <th>2</th>\n      <td>1.237661e+18</td>\n      <td>142.188790</td>\n      <td>35.582444</td>\n      <td>25.26307</td>\n      <td>22.66389</td>\n      <td>20.60976</td>\n      <td>19.34857</td>\n      <td>18.94827</td>\n      <td>3606</td>\n      <td>301</td>\n      <td>2</td>\n      <td>120</td>\n      <td>5.152200e+18</td>\n      <td>0.644195</td>\n      <td>4576</td>\n      <td>55592</td>\n      <td>299</td>\n    </tr>\n    <tr>\n      <th>3</th>\n      <td>1.237663e+18</td>\n      <td>338.741038</td>\n      <td>-0.402828</td>\n      <td>22.13682</td>\n      <td>23.77656</td>\n      <td>21.61162</td>\n      <td>20.50454</td>\n      <td>19.25010</td>\n      <td>4192</td>\n      <td>301</td>\n      <td>3</td>\n      <td>214</td>\n      <td>1.030107e+19</td>\n      <td>0.932346</td>\n      <td>9149</td>\n      <td>58039</td>\n      <td>775</td>\n    </tr>\n    <tr>\n      <th>4</th>\n      <td>1.237680e+18</td>\n      <td>345.282593</td>\n      <td>21.183866</td>\n      <td>19.43718</td>\n      <td>17.58028</td>\n      <td>16.49747</td>\n      <td>15.97711</td>\n      <td>15.54461</td>\n      <td>8102</td>\n      <td>301</td>\n      <td>3</td>\n      <td>137</td>\n      <td>6.891865e+18</td>\n      <td>0.116123</td>\n      <td>6121</td>\n      <td>56187</td>\n      <td>842</td>\n    </tr>\n    <tr>\n      <th>...</th>\n      <td>...</td>\n      <td>...</td>\n      <td>...</td>\n      <td>...</td>\n      <td>...</td>\n      <td>...</td>\n      <td>...</td>\n      <td>...</td>\n      <td>...</td>\n      <td>...</td>\n      <td>...</td>\n      <td>...</td>\n      <td>...</td>\n      <td>...</td>\n      <td>...</td>\n      <td>...</td>\n      <td>...</td>\n    </tr>\n    <tr>\n      <th>99995</th>\n      <td>1.237679e+18</td>\n      <td>39.620709</td>\n      <td>-2.594074</td>\n      <td>22.16759</td>\n      <td>22.97586</td>\n      <td>21.90404</td>\n      <td>21.30548</td>\n      <td>20.73569</td>\n      <td>7778</td>\n      <td>301</td>\n      <td>2</td>\n      <td>581</td>\n      <td>1.055431e+19</td>\n      <td>0.000000</td>\n      <td>9374</td>\n      <td>57749</td>\n      <td>438</td>\n    </tr>\n    <tr>\n      <th>99996</th>\n      <td>1.237679e+18</td>\n      <td>29.493819</td>\n      <td>19.798874</td>\n      <td>22.69118</td>\n      <td>22.38628</td>\n      <td>20.45003</td>\n      <td>19.75759</td>\n      <td>19.41526</td>\n      <td>7917</td>\n      <td>301</td>\n      <td>1</td>\n      <td>289</td>\n      <td>8.586351e+18</td>\n      <td>0.404895</td>\n      <td>7626</td>\n      <td>56934</td>\n      <td>866</td>\n    </tr>\n    <tr>\n      <th>99997</th>\n      <td>1.237668e+18</td>\n      <td>224.587407</td>\n      <td>15.700707</td>\n      <td>21.16916</td>\n      <td>19.26997</td>\n      <td>18.20428</td>\n      <td>17.69034</td>\n      <td>17.35221</td>\n      <td>5314</td>\n      <td>301</td>\n      <td>4</td>\n      <td>308</td>\n      <td>3.112008e+18</td>\n      <td>0.143366</td>\n      <td>2764</td>\n      <td>54535</td>\n      <td>74</td>\n    </tr>\n    <tr>\n      <th>99998</th>\n      <td>1.237661e+18</td>\n      <td>212.268621</td>\n      <td>46.660365</td>\n      <td>25.35039</td>\n      <td>21.63757</td>\n      <td>19.91386</td>\n      <td>19.07254</td>\n      <td>18.62482</td>\n      <td>3650</td>\n      <td>301</td>\n      <td>4</td>\n      <td>131</td>\n      <td>7.601080e+18</td>\n      <td>0.455040</td>\n      <td>6751</td>\n      <td>56368</td>\n      <td>470</td>\n    </tr>\n    <tr>\n      <th>99999</th>\n      <td>1.237661e+18</td>\n      <td>196.896053</td>\n      <td>49.464643</td>\n      <td>22.62171</td>\n      <td>21.79745</td>\n      <td>20.60115</td>\n      <td>20.00959</td>\n      <td>19.28075</td>\n      <td>3650</td>\n      <td>301</td>\n      <td>4</td>\n      <td>60</td>\n      <td>8.343152e+18</td>\n      <td>0.542944</td>\n      <td>7410</td>\n      <td>57104</td>\n      <td>851</td>\n    </tr>\n  </tbody>\n</table>\n<p>100000 rows × 17 columns</p>\n</div>"
     },
     "execution_count": 16,
     "metadata": {},
     "output_type": "execute_result"
    }
   ],
   "source": [
    "stars_data"
   ],
   "metadata": {
    "collapsed": false,
    "ExecuteTime": {
     "end_time": "2024-02-28T13:35:49.286108Z",
     "start_time": "2024-02-28T13:35:49.271471Z"
    }
   },
   "id": "5d60edf255f19172",
   "execution_count": 16
  },
  {
   "cell_type": "code",
   "outputs": [],
   "source": [
    "classe_orignal = df_star.iloc[:, 13]"
   ],
   "metadata": {
    "collapsed": false,
    "ExecuteTime": {
     "end_time": "2024-02-28T13:28:24.701705Z",
     "start_time": "2024-02-28T13:28:24.699103Z"
    }
   },
   "id": "e7dcb2f1fac2bc31",
   "execution_count": 8
  },
  {
   "cell_type": "code",
   "outputs": [
    {
     "data": {
      "text/plain": "0        GALAXY\n1        GALAXY\n2        GALAXY\n3        GALAXY\n4        GALAXY\n          ...  \n99995    GALAXY\n99996    GALAXY\n99997    GALAXY\n99998    GALAXY\n99999    GALAXY\nName: class, Length: 100000, dtype: object"
     },
     "execution_count": 11,
     "metadata": {},
     "output_type": "execute_result"
    }
   ],
   "source": [
    "classe_orignal"
   ],
   "metadata": {
    "collapsed": false,
    "ExecuteTime": {
     "end_time": "2024-02-27T22:20:32.591061Z",
     "start_time": "2024-02-27T22:20:32.587074Z"
    }
   },
   "id": "22ccd77268d7839a",
   "execution_count": 11
  },
  {
   "cell_type": "code",
   "outputs": [],
   "source": [
    "le = LabelEncoder()\n",
    "\n",
    "classe = le.fit_transform(classe_orignal)"
   ],
   "metadata": {
    "collapsed": false,
    "ExecuteTime": {
     "end_time": "2024-02-28T13:28:27.547463Z",
     "start_time": "2024-02-28T13:28:27.531928Z"
    }
   },
   "id": "d0b32b212c4453cb",
   "execution_count": 9
  },
  {
   "cell_type": "code",
   "outputs": [
    {
     "data": {
      "text/plain": "array([0, 0, 0, ..., 0, 0, 0])"
     },
     "execution_count": 10,
     "metadata": {},
     "output_type": "execute_result"
    }
   ],
   "source": [
    "classe"
   ],
   "metadata": {
    "collapsed": false,
    "ExecuteTime": {
     "end_time": "2024-02-28T13:28:29.938616Z",
     "start_time": "2024-02-28T13:28:29.934942Z"
    }
   },
   "id": "4ca4ae5cf64614b8",
   "execution_count": 10
  },
  {
   "cell_type": "code",
   "outputs": [],
   "source": [
    "# 0 - galaxy - 1, 0, 0\n",
    "# 1 - QSO - 0, 1, 0\n",
    "# 2 - Star - 0, 0, 1"
   ],
   "metadata": {
    "collapsed": false
   },
   "id": "60b72a2ac5ba78d5"
  },
  {
   "cell_type": "code",
   "outputs": [],
   "source": [
    "classe_categorical = to_categorical(classe, num_classes=3)"
   ],
   "metadata": {
    "collapsed": false,
    "ExecuteTime": {
     "end_time": "2024-02-28T13:28:33.268005Z",
     "start_time": "2024-02-28T13:28:33.264055Z"
    }
   },
   "id": "1bf8886023a3cfd1",
   "execution_count": 11
  },
  {
   "cell_type": "code",
   "outputs": [
    {
     "data": {
      "text/plain": "array([[1., 0., 0.],\n       [1., 0., 0.],\n       [1., 0., 0.],\n       ...,\n       [1., 0., 0.],\n       [1., 0., 0.],\n       [1., 0., 0.]], dtype=float32)"
     },
     "execution_count": 12,
     "metadata": {},
     "output_type": "execute_result"
    }
   ],
   "source": [
    "classe_categorical"
   ],
   "metadata": {
    "collapsed": false,
    "ExecuteTime": {
     "end_time": "2024-02-28T13:28:34.515508Z",
     "start_time": "2024-02-28T13:28:34.512065Z"
    }
   },
   "id": "200cc00a60bceacd",
   "execution_count": 12
  },
  {
   "cell_type": "code",
   "outputs": [],
   "source": [
    "x_train, x_test, y_train, y_test = train_test_split(stars_data, classe_categorical, test_size=0.2)\n",
    "# testar random state"
   ],
   "metadata": {
    "collapsed": false,
    "ExecuteTime": {
     "end_time": "2024-02-28T13:38:14.743370Z",
     "start_time": "2024-02-28T13:38:14.724193Z"
    }
   },
   "id": "e6d4c929e924976c",
   "execution_count": 17
  },
  {
   "cell_type": "code",
   "outputs": [],
   "source": [
    "classificador = Sequential()\n",
    "\n",
    "classificador.add(Dense(units=17, input_dim=17, activation='relu'))\n",
    "\n",
    "classificador.add(Dense(units=64, activation='relu'))\n",
    "classificador.add(Dense(units=128, activation='relu'))\n",
    "classificador.add(Dense(units=256, activation='relu'))\n",
    "\n",
    "classificador.add(Dense(units=3, activation='softmax'))\n",
    "\n",
    "classificador.compile(optimizer='adam', loss='categorical_crossentropy', metrics=['categorical_accuracy'])"
   ],
   "metadata": {
    "collapsed": false,
    "ExecuteTime": {
     "end_time": "2024-02-28T14:34:28.753668Z",
     "start_time": "2024-02-28T14:34:28.659785Z"
    }
   },
   "id": "8c7bee75e44f8f3",
   "execution_count": 20
  },
  {
   "cell_type": "code",
   "outputs": [],
   "source": [
    "classificador.fit(x_train, y_train, validation_data=(x_test, y_test), epochs=100)"
   ],
   "metadata": {
    "collapsed": false
   },
   "id": "4bf4f4aa0b8208b"
  },
  {
   "cell_type": "code",
   "outputs": [],
   "source": [],
   "metadata": {
    "collapsed": false
   },
   "id": "93e0bf2e50e96cab"
  },
  {
   "cell_type": "code",
   "outputs": [],
   "source": [],
   "metadata": {
    "collapsed": false
   },
   "id": "cb6b6132eaf9657"
  },
  {
   "cell_type": "code",
   "outputs": [],
   "source": [],
   "metadata": {
    "collapsed": false
   },
   "id": "6407b915ad108fde"
  }
 ],
 "metadata": {
  "kernelspec": {
   "display_name": "Python 3",
   "language": "python",
   "name": "python3"
  },
  "language_info": {
   "codemirror_mode": {
    "name": "ipython",
    "version": 2
   },
   "file_extension": ".py",
   "mimetype": "text/x-python",
   "name": "python",
   "nbconvert_exporter": "python",
   "pygments_lexer": "ipython2",
   "version": "2.7.6"
  }
 },
 "nbformat": 4,
 "nbformat_minor": 5
}
